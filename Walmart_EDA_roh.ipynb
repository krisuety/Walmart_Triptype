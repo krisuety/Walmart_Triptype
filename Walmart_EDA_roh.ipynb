{
 "cells": [
  {
   "cell_type": "markdown",
   "metadata": {},
   "source": [
    "# [SS60] Walmart TripType Classification"
   ]
  },
  {
   "cell_type": "markdown",
   "metadata": {},
   "source": [
    "https://ko.coursera.org/lecture/competitive-data-science/walmart-trip-type-classification-CMcdq"
   ]
  },
  {
   "cell_type": "markdown",
   "metadata": {},
   "source": [
    "# 0. Settings"
   ]
  },
  {
   "cell_type": "code",
   "execution_count": 68,
   "metadata": {},
   "outputs": [
    {
     "name": "stdout",
     "output_type": "stream",
     "text": [
      "AppleGothic\n"
     ]
    }
   ],
   "source": [
    "# import *\n",
    "import warnings\n",
    "warnings.simplefilter('ignore')\n",
    "import numpy as np\n",
    "import pandas as pd\n",
    "\n",
    "import seaborn as sns\n",
    "sns.set()\n",
    "sns.set_style(\"whitegrid\")\n",
    "sns.set_color_codes()\n",
    "import scipy as sp\n",
    "import scipy.stats\n",
    "import statsmodels.api as sm\n",
    "import sklearn as sk\n",
    "\n",
    "import matplotlib as mpl\n",
    "import matplotlib.pyplot as plt\n",
    "\n",
    "from mpl_toolkits.mplot3d import Axes3D\n",
    "\n",
    "import matplotlib.font_manager as fm\n",
    "font_location = \"/Library/Fonts/AppleGothic.ttf\"\n",
    "font_name = fm.FontProperties(fname=font_location).get_name()\n",
    "print(font_name)\n",
    "mpl.rc('font', family=font_name)\n",
    "%matplotlib inline\n",
    "%config InlineBackend.figure_formats = {'png', 'retina'}\n",
    "\n",
    "from scipy.sparse import csr_matrix\n",
    "from sklearn.tree import DecisionTreeClassifier\n",
    "from sklearn.ensemble import BaggingClassifier\n",
    "from sklearn.ensemble import RandomForestClassifier\n",
    "from sklearn.metrics import accuracy_score, confusion_matrix, classification_report"
   ]
  },
  {
   "cell_type": "code",
   "execution_count": 65,
   "metadata": {},
   "outputs": [],
   "source": [
    "# 메모리 절약\n",
    "def reduce_mem_usage(df):\n",
    "    \"\"\" iterate through all the columns of a dataframe and modify the data type\n",
    "        to reduce memory usage.        \n",
    "    \"\"\"\n",
    "    start_mem = df.memory_usage().sum() / 1024**2\n",
    "    print('Memory usage of dataframe is {:.2f} MB'.format(start_mem))\n",
    "    \n",
    "    for col in df.columns:\n",
    "        col_type = df[col].dtype\n",
    "        \n",
    "        if col_type != object:\n",
    "            c_min = df[col].min()\n",
    "            c_max = df[col].max()\n",
    "            if str(col_type)[:3] == 'int':\n",
    "                if c_min > np.iinfo(np.int8).min and c_max < np.iinfo(np.int8).max:\n",
    "                    df[col] = df[col].astype(np.int8)\n",
    "                elif c_min > np.iinfo(np.int16).min and c_max < np.iinfo(np.int16).max:\n",
    "                    df[col] = df[col].astype(np.int16)\n",
    "                elif c_min > np.iinfo(np.int32).min and c_max < np.iinfo(np.int32).max:\n",
    "                    df[col] = df[col].astype(np.int32)\n",
    "                elif c_min > np.iinfo(np.int64).min and c_max < np.iinfo(np.int64).max:\n",
    "                    df[col] = df[col].astype(np.int64)  \n",
    "            else:\n",
    "                if c_min > np.finfo(np.float16).min and c_max < np.finfo(np.float16).max:\n",
    "                    df[col] = df[col].astype(np.float16)\n",
    "                elif c_min > np.finfo(np.float32).min and c_max < np.finfo(np.float32).max:\n",
    "                    df[col] = df[col].astype(np.float32)\n",
    "                else:\n",
    "                    df[col] = df[col].astype(np.float64)\n",
    "        else:\n",
    "            df[col] = df[col].astype('category')\n",
    "\n",
    "    end_mem = df.memory_usage().sum() / 1024**2\n",
    "    print('Memory usage after optimization is: {:.2f} MB'.format(end_mem))\n",
    "    print('Decreased by {:.1f}%'.format(100 * (start_mem - end_mem) / start_mem))\n",
    "    \n",
    "    return df\n",
    "\n",
    "\n",
    "def import_data(file):\n",
    "    \"\"\"create a dataframe and optimize its memory usage\"\"\"\n",
    "    df = pd.read_csv(file, parse_dates=True, keep_date_col=True)\n",
    "    df = reduce_mem_usage(df)\n",
    "    return df"
   ]
  },
  {
   "cell_type": "code",
   "execution_count": 66,
   "metadata": {},
   "outputs": [
    {
     "name": "stdout",
     "output_type": "stream",
     "text": [
      "Memory usage of dataframe is 34.56 MB\n",
      "Memory usage after optimization is: 9.26 MB\n",
      "Decreased by 73.2%\n",
      "Memory usage of dataframe is 29.92 MB\n",
      "Memory usage after optimization is: 8.11 MB\n",
      "Decreased by 72.9%\n"
     ]
    }
   ],
   "source": [
    "# 데이터 불러오기\n",
    "df = import_data(\"train.csv\")\n",
    "df_test = import_data(\"test.csv\")"
   ]
  },
  {
   "cell_type": "markdown",
   "metadata": {},
   "source": [
    "# 1. About Dataset\n",
    "## 1.1 개요"
   ]
  },
  {
   "cell_type": "code",
   "execution_count": 4,
   "metadata": {},
   "outputs": [
    {
     "data": {
      "text/plain": [
       "((647054, 7), (653646, 6))"
      ]
     },
     "execution_count": 4,
     "metadata": {},
     "output_type": "execute_result"
    }
   ],
   "source": [
    "# 데이터 모양\n",
    "df.shape, df_test.shape"
   ]
  },
  {
   "cell_type": "code",
   "execution_count": 5,
   "metadata": {},
   "outputs": [
    {
     "data": {
      "text/plain": [
       "TripType                 647054\n",
       "VisitNumber              647054\n",
       "Weekday                  647054\n",
       "Upc                      642925\n",
       "ScanCount                647054\n",
       "DepartmentDescription    645693\n",
       "FinelineNumber           642925\n",
       "dtype: int64"
      ]
     },
     "execution_count": 5,
     "metadata": {},
     "output_type": "execute_result"
    }
   ],
   "source": [
    "# 각 변수의 데이터 수\n",
    "df.count()"
   ]
  },
  {
   "cell_type": "code",
   "execution_count": 6,
   "metadata": {},
   "outputs": [
    {
     "data": {
      "text/plain": [
       "TripType                    0\n",
       "VisitNumber                 0\n",
       "Weekday                     0\n",
       "Upc                      4129\n",
       "ScanCount                   0\n",
       "DepartmentDescription    1361\n",
       "FinelineNumber           4129\n",
       "dtype: int64"
      ]
     },
     "execution_count": 6,
     "metadata": {},
     "output_type": "execute_result"
    }
   ],
   "source": [
    "# 누락값 체크\n",
    "num_rows = df.shape[0]\n",
    "num_missing = num_rows - df.count()\n",
    "num_missing"
   ]
  },
  {
   "cell_type": "markdown",
   "metadata": {},
   "source": [
    "## 1.2 Column 살펴보기\n",
    "### 1.2.1 `TripType` \n",
    "- 고객의 구매 활동을 나타내는 카테고리컬 식별값. \n",
    "- 이번 분석에서의 Target값"
   ]
  },
  {
   "cell_type": "code",
   "execution_count": 7,
   "metadata": {
    "scrolled": true
   },
   "outputs": [
    {
     "name": "stdout",
     "output_type": "stream",
     "text": [
      "[999  30  26   8  35  41  21   6  42   7   9  39  25  38  15  36  20  37\n",
      "  32  40   5   3   4  24  33  43  31  27  34  18  29  44  19  23  22  28\n",
      "  14  12]\n",
      "38가지 ID가 있습니다.\n"
     ]
    }
   ],
   "source": [
    "# TripType\n",
    "# 다른 변수들을 분석해 38가지 중에 하나로 분류해야 합니다. \n",
    "# 999번은 '기타'값입니다.\n",
    "print(df.TripType.unique())\n",
    "print(\"{}가지 ID가 있습니다.\".format(len(df.TripType.unique())))"
   ]
  },
  {
   "cell_type": "markdown",
   "metadata": {},
   "source": [
    "### 1.2.2 `VisitNumber`\n",
    "- 단일 고객의 단일 구매 활동을 나타내는 값\n",
    "- 95674가지 값을 가집니다."
   ]
  },
  {
   "cell_type": "code",
   "execution_count": 8,
   "metadata": {},
   "outputs": [
    {
     "data": {
      "text/plain": [
       "95674"
      ]
     },
     "execution_count": 8,
     "metadata": {},
     "output_type": "execute_result"
    }
   ],
   "source": [
    "len(df.VisitNumber.unique())"
   ]
  },
  {
   "cell_type": "code",
   "execution_count": 9,
   "metadata": {},
   "outputs": [
    {
     "data": {
      "text/plain": [
       "array([     5,      7,      8, ..., 191345, 191346, 191347])"
      ]
     },
     "execution_count": 9,
     "metadata": {},
     "output_type": "execute_result"
    }
   ],
   "source": [
    "df.VisitNumber.unique()"
   ]
  },
  {
   "cell_type": "markdown",
   "metadata": {},
   "source": [
    "### 1.2.3 `Weekday` \n",
    "- `VisitNumber`가 일어난 요일"
   ]
  },
  {
   "cell_type": "code",
   "execution_count": 10,
   "metadata": {},
   "outputs": [
    {
     "data": {
      "text/plain": [
       "array(['Friday', 'Saturday', 'Sunday', 'Monday', 'Tuesday', 'Wednesday',\n",
       "       'Thursday'], dtype=object)"
      ]
     },
     "execution_count": 10,
     "metadata": {},
     "output_type": "execute_result"
    }
   ],
   "source": [
    "df.Weekday.unique()"
   ]
  },
  {
   "cell_type": "markdown",
   "metadata": {},
   "source": [
    "### 1.2.4 `Upc`\n",
    "- Universal Product Code. 구매한 제품의 고유값\n",
    "- 97715개 상품이 팔렸습니다."
   ]
  },
  {
   "cell_type": "code",
   "execution_count": 11,
   "metadata": {},
   "outputs": [
    {
     "data": {
      "text/plain": [
       "97715"
      ]
     },
     "execution_count": 11,
     "metadata": {},
     "output_type": "execute_result"
    }
   ],
   "source": [
    "len(df.Upc.unique())"
   ]
  },
  {
   "cell_type": "markdown",
   "metadata": {},
   "source": [
    "### 1.2.5 `ScanCount`\n",
    "- 해당 상품을 몇 개 샀는지를 나타냄.\n",
    "- 반품했을 경우 음수값으로 표시"
   ]
  },
  {
   "cell_type": "code",
   "execution_count": 12,
   "metadata": {},
   "outputs": [
    {
     "name": "stdout",
     "output_type": "stream",
     "text": [
      "[ -1   1   2   3   5   6   4  14  -2   9   7  10   8  -3  -5  11  16  -4\n",
      "  13  15  30  -6  12  20 -12  19  46  23  -7  22  25  24  31  -9  51  17\n",
      "  18  71 -10]\n",
      "count    647054.000000\n",
      "mean          1.108878\n",
      "std           0.700776\n",
      "min         -12.000000\n",
      "25%           1.000000\n",
      "50%           1.000000\n",
      "75%           1.000000\n",
      "max          71.000000\n",
      "Name: ScanCount, dtype: float64\n"
     ]
    }
   ],
   "source": [
    "print(df.ScanCount.unique())\n",
    "print(df.ScanCount.describe())"
   ]
  },
  {
   "cell_type": "markdown",
   "metadata": {},
   "source": [
    "### 1.2.6 `DepartmentDescription` \n",
    "- 상품 대분류\n",
    "- 이 기준에 따르면 상품들은 69가지로 분류됩니다."
   ]
  },
  {
   "cell_type": "code",
   "execution_count": 13,
   "metadata": {},
   "outputs": [
    {
     "name": "stdout",
     "output_type": "stream",
     "text": [
      "69\n",
      "['FINANCIAL SERVICES' 'SHOES' 'PERSONAL CARE' 'PAINT AND ACCESSORIES'\n",
      " 'DSD GROCERY' 'MEAT - FRESH & FROZEN' 'DAIRY' 'PETS AND SUPPLIES'\n",
      " 'HOUSEHOLD CHEMICALS/SUPP' nan 'IMPULSE MERCHANDISE' 'PRODUCE'\n",
      " 'CANDY, TOBACCO, COOKIES' 'GROCERY DRY GOODS' 'BOYS WEAR'\n",
      " 'FABRICS AND CRAFTS' 'JEWELRY AND SUNGLASSES' 'MENS WEAR' 'ACCESSORIES'\n",
      " 'HOME MANAGEMENT' 'FROZEN FOODS' 'SERVICE DELI'\n",
      " 'INFANT CONSUMABLE HARDLINES' 'PRE PACKED DELI' 'COOK AND DINE'\n",
      " 'PHARMACY OTC' 'LADIESWEAR' 'COMM BREAD' 'BAKERY' 'HOUSEHOLD PAPER GOODS'\n",
      " 'CELEBRATION' 'HARDWARE' 'BEAUTY' 'AUTOMOTIVE' 'BOOKS AND MAGAZINES'\n",
      " 'SEAFOOD' 'OFFICE SUPPLIES' 'LAWN AND GARDEN' 'SHEER HOSIERY' 'WIRELESS'\n",
      " 'BEDDING' 'BATH AND SHOWER' 'HORTICULTURE AND ACCESS' 'HOME DECOR' 'TOYS'\n",
      " 'INFANT APPAREL' 'LADIES SOCKS' 'PLUS AND MATERNITY' 'ELECTRONICS'\n",
      " 'GIRLS WEAR, 4-6X  AND 7-14' 'BRAS & SHAPEWEAR' 'LIQUOR,WINE,BEER'\n",
      " 'SLEEPWEAR/FOUNDATIONS' 'CAMERAS AND SUPPLIES' 'SPORTING GOODS'\n",
      " 'PLAYERS AND ELECTRONICS' 'PHARMACY RX' 'MENSWEAR' 'OPTICAL - FRAMES'\n",
      " 'SWIMWEAR/OUTERWEAR' 'OTHER DEPARTMENTS' 'MEDIA AND GAMING' 'FURNITURE'\n",
      " 'OPTICAL - LENSES' 'SEASONAL' 'LARGE HOUSEHOLD GOODS' '1-HR PHOTO'\n",
      " 'CONCEPT STORES' 'HEALTH AND BEAUTY AIDS']\n"
     ]
    }
   ],
   "source": [
    "print(len(df.DepartmentDescription.unique()))\n",
    "print(df.DepartmentDescription.unique())"
   ]
  },
  {
   "cell_type": "code",
   "execution_count": 14,
   "metadata": {},
   "outputs": [
    {
     "data": {
      "text/plain": [
       "TripType                 6099\n",
       "VisitNumber              6099\n",
       "Weekday                  6099\n",
       "Upc                      6099\n",
       "ScanCount                6099\n",
       "DepartmentDescription    6099\n",
       "FinelineNumber           6099\n",
       "dtype: int64"
      ]
     },
     "execution_count": 14,
     "metadata": {},
     "output_type": "execute_result"
    }
   ],
   "source": [
    "df[df.DepartmentDescription == 'SHOES'].count()"
   ]
  },
  {
   "cell_type": "code",
   "execution_count": 15,
   "metadata": {},
   "outputs": [
    {
     "data": {
      "text/plain": [
       "TripType                 221\n",
       "VisitNumber              221\n",
       "Weekday                  221\n",
       "Upc                      221\n",
       "ScanCount                221\n",
       "DepartmentDescription    221\n",
       "FinelineNumber           221\n",
       "dtype: int64"
      ]
     },
     "execution_count": 15,
     "metadata": {},
     "output_type": "execute_result"
    }
   ],
   "source": [
    "df[df.DepartmentDescription == 'CAMERAS AND SUPPLIES'].count()"
   ]
  },
  {
   "cell_type": "code",
   "execution_count": 16,
   "metadata": {},
   "outputs": [
    {
     "data": {
      "text/plain": [
       "TripType                 10723\n",
       "VisitNumber              10723\n",
       "Weekday                  10723\n",
       "Upc                      10723\n",
       "ScanCount                10723\n",
       "DepartmentDescription    10723\n",
       "FinelineNumber           10723\n",
       "dtype: int64"
      ]
     },
     "execution_count": 16,
     "metadata": {},
     "output_type": "execute_result"
    }
   ],
   "source": [
    "df[df.DepartmentDescription == 'FINANCIAL SERVICES'].count()"
   ]
  },
  {
   "cell_type": "markdown",
   "metadata": {},
   "source": [
    "### 1.2.7 `FinelineNumber` \n",
    "- 월마트가 자체적으로 사용하는 세분화된 상품 분류 코드\n",
    "- 이 기준에 따르면 상품들은 51965가지로 분류됩니다."
   ]
  },
  {
   "cell_type": "code",
   "execution_count": 17,
   "metadata": {},
   "outputs": [
    {
     "name": "stdout",
     "output_type": "stream",
     "text": [
      "[1000. 8931. 4504. ... 8257. 4314. 7130.]\n"
     ]
    }
   ],
   "source": [
    "len(df.FinelineNumber.unique())\n",
    "print(df.FinelineNumber.unique())"
   ]
  },
  {
   "cell_type": "markdown",
   "metadata": {},
   "source": [
    "## 1.3 데이터 예시"
   ]
  },
  {
   "cell_type": "code",
   "execution_count": 18,
   "metadata": {
    "scrolled": true
   },
   "outputs": [
    {
     "data": {
      "text/plain": [
       "TripType                                999\n",
       "VisitNumber                               5\n",
       "Weekday                              Friday\n",
       "Upc                             6.81132e+10\n",
       "ScanCount                                -1\n",
       "DepartmentDescription    FINANCIAL SERVICES\n",
       "FinelineNumber                         1000\n",
       "Name: 0, dtype: object"
      ]
     },
     "execution_count": 18,
     "metadata": {},
     "output_type": "execute_result"
    }
   ],
   "source": [
    "# 0번 데이터\n",
    "df.iloc[0]"
   ]
  },
  {
   "cell_type": "markdown",
   "metadata": {},
   "source": [
    "- VisitNumber 5번에서\n",
    "- 금요일에 물건 '6.81132e+10'이 하나 팔렸다가 환불됐다. \n",
    "- 분류는 FINANCIAL SERVICES이고 월마트 분류기준 1000번이다\n",
    "- 트립타입은 999(기타)로 분류됐다"
   ]
  },
  {
   "cell_type": "code",
   "execution_count": 19,
   "metadata": {
    "scrolled": true
   },
   "outputs": [
    {
     "data": {
      "text/plain": [
       "TripType                          30\n",
       "VisitNumber                        7\n",
       "Weekday                       Friday\n",
       "Upc                      6.05388e+10\n",
       "ScanCount                          1\n",
       "DepartmentDescription          SHOES\n",
       "FinelineNumber                  8931\n",
       "Name: 1, dtype: object"
      ]
     },
     "execution_count": 19,
     "metadata": {},
     "output_type": "execute_result"
    }
   ],
   "source": [
    "# 1번 데이터\n",
    "df.iloc[1]"
   ]
  },
  {
   "cell_type": "markdown",
   "metadata": {},
   "source": [
    "- VisitNumber 7번에서\n",
    "- 금요일에 물건 '6.05388e+10'이 하나 팔렸다. \n",
    "- 분류는 SHOES이고 월마트 분류기준 8931번이다.\n",
    "- 트립타입은 30으로 분류됐다"
   ]
  },
  {
   "cell_type": "markdown",
   "metadata": {},
   "source": [
    "## 2. EDA와 전처리\n",
    "### 2.1 `Weekday` 인코딩"
   ]
  },
  {
   "cell_type": "code",
   "execution_count": 72,
   "metadata": {},
   "outputs": [],
   "source": [
    "weekday = {\"Monday\": 0, \n",
    "           \"Tuesday\": 1, \n",
    "           \"Wednesday\": 2, \n",
    "           \"Thursday\": 3, \n",
    "           \"Friday\": 4, \n",
    "           \"Saturday\": 5, \n",
    "           \"Sunday\": 6}\n",
    "df[\"Weekday\"] = df[\"Weekday\"].apply(lambda x: weekday[x])\n",
    "df_test[\"Weekday\"] = df_test[\"Weekday\"].apply(lambda x: weekday[x])"
   ]
  },
  {
   "cell_type": "code",
   "execution_count": 37,
   "metadata": {},
   "outputs": [
    {
     "data": {
      "image/png": "[encoded data removed]",
      "text/plain": [
       "<Figure size 864x216 with 2 Axes>"
      ]
     },
     "metadata": {
      "image/png": {
       "height": 241,
       "width": 711
      }
     },
     "output_type": "display_data"
    }
   ],
   "source": [
    "plt.figure(figsize=(12, 3))\n",
    "sns.heatmap(data=pd.crosstab(df[\"Weekday\"],\n",
    "                             df[\"TripType\"], \n",
    "                             values=df[\"VisitNumber\"],\n",
    "                             aggfunc='count', \n",
    "                             normalize=\"columns\"), cmap=\"cool\")\n",
    "plt.yticks(range(0,7), list(weekday.keys()), rotation=\"horizontal\")\n",
    "plt.title(\"요일별 Triptype 분포\", fontsize=13)\n",
    "plt.show()"
   ]
  },
  {
   "cell_type": "markdown",
   "metadata": {},
   "source": [
    "### 2.2 `Upc` 누락값 처리"
   ]
  },
  {
   "cell_type": "code",
   "execution_count": 38,
   "metadata": {
    "scrolled": true
   },
   "outputs": [
    {
     "data": {
      "image/png": "[encoded data removed]",
      "text/plain": [
       "<Figure size 864x216 with 1 Axes>"
      ]
     },
     "metadata": {
      "image/png": {
       "height": 256,
       "width": 726
      }
     },
     "output_type": "display_data"
    }
   ],
   "source": [
    "plt.figure(figsize=(12, 3))\n",
    "df.isnull().sum().plot(kind='bar', color=\"orange\")\n",
    "plt.xticks(rotation=30, ha='right')\n",
    "plt.show()"
   ]
  },
  {
   "cell_type": "code",
   "execution_count": 73,
   "metadata": {},
   "outputs": [],
   "source": [
    "# nan값을 0으로 변경\n",
    "df['Upc'] = df['Upc'].fillna(0)\n",
    "df_test['Upc'] = df_test['Upc'].fillna(0)"
   ]
  },
  {
   "cell_type": "markdown",
   "metadata": {},
   "source": [
    "### 2.3 `Upc` 정수 모양의 문자로 변경"
   ]
  },
  {
   "cell_type": "code",
   "execution_count": 74,
   "metadata": {},
   "outputs": [],
   "source": [
    "def upc(num):\n",
    "    while num != \"nan\":\n",
    "        num = str(num).split(\".\")[0]\n",
    "        return num"
   ]
  },
  {
   "cell_type": "code",
   "execution_count": 75,
   "metadata": {},
   "outputs": [],
   "source": [
    "df['Upc'] = df['Upc'].apply(upc)\n",
    "df_test['Upc'] = df_test['Upc'].apply(upc)"
   ]
  },
  {
   "cell_type": "markdown",
   "metadata": {},
   "source": [
    "### 2.4 `Upc` 에서 회사코드 뽑아내기"
   ]
  },
  {
   "cell_type": "code",
   "execution_count": 76,
   "metadata": {},
   "outputs": [],
   "source": [
    "def upc_company(x):\n",
    "    try: \n",
    "        p = x[:6]\n",
    "        if p == \"000000\":\n",
    "            return x[-5]\n",
    "        return p\n",
    "    except:\n",
    "        return -9999"
   ]
  },
  {
   "cell_type": "code",
   "execution_count": 77,
   "metadata": {},
   "outputs": [],
   "source": [
    "df['Upc_company'] = df['Upc'].apply(upc_company)\n",
    "df_test['Upc_company'] = df_test['Upc'].apply(upc_company)"
   ]
  },
  {
   "cell_type": "markdown",
   "metadata": {},
   "source": [
    "### 2.5 `TripType` 별 카운트"
   ]
  },
  {
   "cell_type": "code",
   "execution_count": 57,
   "metadata": {
    "scrolled": false
   },
   "outputs": [
    {
     "data": {
      "image/png": "[encoded data removed]",
      "text/plain": [
       "<Figure size 1152x144 with 1 Axes>"
      ]
     },
     "metadata": {
      "image/png": {
       "height": 174,
       "width": 980
      }
     },
     "output_type": "display_data"
    }
   ],
   "source": [
    "plt.figure(figsize=(16,2))\n",
    "sns.countplot(x=\"TripType\", data=df)\n",
    "plt.title(\" \")\n",
    "plt.show()"
   ]
  },
  {
   "cell_type": "markdown",
   "metadata": {},
   "source": [
    "### 2.6 `DepartmentDescription` 컬럼 추가"
   ]
  },
  {
   "cell_type": "code",
   "execution_count": 59,
   "metadata": {},
   "outputs": [
    {
     "data": {
      "text/plain": [
       "array(['FINANCIAL SERVICES', 'SHOES', 'PERSONAL CARE',\n",
       "       'PAINT AND ACCESSORIES', 'DSD GROCERY', 'MEAT - FRESH & FROZEN',\n",
       "       'DAIRY', 'PETS AND SUPPLIES', 'HOUSEHOLD CHEMICALS/SUPP', nan,\n",
       "       'IMPULSE MERCHANDISE', 'PRODUCE', 'CANDY, TOBACCO, COOKIES',\n",
       "       'GROCERY DRY GOODS', 'BOYS WEAR', 'FABRICS AND CRAFTS',\n",
       "       'JEWELRY AND SUNGLASSES', 'MENS WEAR', 'ACCESSORIES',\n",
       "       'HOME MANAGEMENT', 'FROZEN FOODS', 'SERVICE DELI',\n",
       "       'INFANT CONSUMABLE HARDLINES', 'PRE PACKED DELI', 'COOK AND DINE',\n",
       "       'PHARMACY OTC', 'LADIESWEAR', 'COMM BREAD', 'BAKERY',\n",
       "       'HOUSEHOLD PAPER GOODS', 'CELEBRATION', 'HARDWARE', 'BEAUTY',\n",
       "       'AUTOMOTIVE', 'BOOKS AND MAGAZINES', 'SEAFOOD', 'OFFICE SUPPLIES',\n",
       "       'LAWN AND GARDEN', 'SHEER HOSIERY', 'WIRELESS', 'BEDDING',\n",
       "       'BATH AND SHOWER', 'HORTICULTURE AND ACCESS', 'HOME DECOR', 'TOYS',\n",
       "       'INFANT APPAREL', 'LADIES SOCKS', 'PLUS AND MATERNITY',\n",
       "       'ELECTRONICS', 'GIRLS WEAR, 4-6X  AND 7-14', 'BRAS & SHAPEWEAR',\n",
       "       'LIQUOR,WINE,BEER', 'SLEEPWEAR/FOUNDATIONS',\n",
       "       'CAMERAS AND SUPPLIES', 'SPORTING GOODS',\n",
       "       'PLAYERS AND ELECTRONICS', 'PHARMACY RX', 'MENSWEAR',\n",
       "       'OPTICAL - FRAMES', 'SWIMWEAR/OUTERWEAR', 'OTHER DEPARTMENTS',\n",
       "       'MEDIA AND GAMING', 'FURNITURE', 'OPTICAL - LENSES', 'SEASONAL',\n",
       "       'LARGE HOUSEHOLD GOODS', '1-HR PHOTO', 'CONCEPT STORES',\n",
       "       'HEALTH AND BEAUTY AIDS'], dtype=object)"
      ]
     },
     "execution_count": 59,
     "metadata": {},
     "output_type": "execute_result"
    }
   ],
   "source": [
    "df.DepartmentDescription.unique()"
   ]
  },
  {
   "cell_type": "code",
   "execution_count": 78,
   "metadata": {},
   "outputs": [],
   "source": [
    "dep_list = ['FINANCIAL SERVICES', 'SHOES', 'PERSONAL CARE',\n",
    "       'PAINT AND ACCESSORIES', 'DSD GROCERY', 'MEAT - FRESH & FROZEN',\n",
    "       'DAIRY', 'PETS AND SUPPLIES', 'HOUSEHOLD CHEMICALS/SUPP',\n",
    "       'IMPULSE MERCHANDISE', 'PRODUCE', 'CANDY, TOBACCO, COOKIES',\n",
    "       'GROCERY DRY GOODS', 'BOYS WEAR', 'FABRICS AND CRAFTS',\n",
    "       'JEWELRY AND SUNGLASSES', 'MENS WEAR', 'ACCESSORIES',\n",
    "       'HOME MANAGEMENT', 'FROZEN FOODS', 'SERVICE DELI',\n",
    "       'INFANT CONSUMABLE HARDLINES', 'PRE PACKED DELI', 'COOK AND DINE',\n",
    "       'PHARMACY OTC', 'LADIESWEAR', 'COMM BREAD', 'BAKERY',\n",
    "       'HOUSEHOLD PAPER GOODS', 'CELEBRATION', 'HARDWARE', 'BEAUTY',\n",
    "       'AUTOMOTIVE', 'BOOKS AND MAGAZINES', 'SEAFOOD', 'OFFICE SUPPLIES',\n",
    "       'LAWN AND GARDEN', 'SHEER HOSIERY', 'WIRELESS', 'BEDDING',\n",
    "       'BATH AND SHOWER', 'HORTICULTURE AND ACCESS', 'HOME DECOR', 'TOYS',\n",
    "       'INFANT APPAREL', 'LADIES SOCKS', 'PLUS AND MATERNITY',\n",
    "       'ELECTRONICS', 'GIRLS WEAR, 4-6X  AND 7-14', 'BRAS & SHAPEWEAR',\n",
    "       'LIQUOR,WINE,BEER', 'SLEEPWEAR/FOUNDATIONS',\n",
    "       'CAMERAS AND SUPPLIES', 'SPORTING GOODS',\n",
    "       'PLAYERS AND ELECTRONICS', 'PHARMACY RX', 'MENSWEAR',\n",
    "       'OPTICAL - FRAMES', 'SWIMWEAR/OUTERWEAR', 'OTHER DEPARTMENTS',\n",
    "       'MEDIA AND GAMING', 'FURNITURE', 'OPTICAL - LENSES', 'SEASONAL',\n",
    "       'LARGE HOUSEHOLD GOODS', '1-HR PHOTO', 'CONCEPT STORES',\n",
    "       'HEALTH AND BEAUTY AIDS']\n",
    "dep_list.sort()"
   ]
  },
  {
   "cell_type": "code",
   "execution_count": 79,
   "metadata": {},
   "outputs": [],
   "source": [
    "for i in range(len(dep_list)):\n",
    "    df['dep_{}'.format(dep_list[i])] = df[\"DepartmentDescription\"].apply(lambda x : 1 if x == dep_list[i] else 0)\n",
    "    df_test['dep_{}'.format(dep_list[i])] = df_test[\"DepartmentDescription\"].apply(lambda x : 1 if x == dep_list[i] else 0)"
   ]
  },
  {
   "cell_type": "code",
   "execution_count": 69,
   "metadata": {},
   "outputs": [],
   "source": [
    "# 아래 코드\n",
    "df_d_sum = df.groupby(['VisitNumber', 'DepartmentDescription'], as_index=False)['ScanCount'].agg('sum').sort_values(['VisitNumber', 'ScanCount', 'DepartmentDescription'], ascending=[1, 0, 1])\n",
    "df_d_sum['abs_sum'] = df_d_sum.assign(abs=df_d_sum['ScanCount'].abs()).groupby(['VisitNumber'])['abs'].transform('sum')\n",
    "\n",
    "df_test_d_sum = df_test.groupby(['VisitNumber', 'DepartmentDescription'], as_index=False)['ScanCount'].agg('sum').sort_values(['VisitNumber', 'ScanCount', 'DepartmentDescription'], ascending=[1, 0, 1])\n",
    "df_test_d_sum['abs_sum'] = df_test_d_sum.assign(abs=df_d_sum['ScanCount'].abs()).groupby(['VisitNumber'])['abs'].transform('sum')\n",
    "\n",
    "# change 'abs_sum' for div\n",
    "criteria = df_d_sum['abs_sum'] == 0\n",
    "df_d_sum.loc[criteria, 'abs_sum'] = 999\n",
    "\n",
    "criteria_test = df_test_d_sum['abs_sum'] == 0\n",
    "df_test_d_sum.loc[criteria_test, 'abs_sum'] = 999\n",
    "\n",
    "# create ratio\n",
    "df_d_sum['ratio'] = df_d_sum['ScanCount'] / df_d_sum['abs_sum']\n",
    "df_test_d_sum['ratio'] = df_test_d_sum['ScanCount'] / df_d_sum['abs_sum']\n",
    "\n",
    "# abs_sum 원복\n",
    "criteria = df_d_sum['abs_sum'] == 999\n",
    "df_d_sum.loc[criteria, 'abs_sum'] = 0\n",
    "\n",
    "criteria_test = df_test_d_sum['abs_sum'] == 999\n",
    "df_test_d_sum.loc[criteria_test, 'abs_sum'] = 0\n",
    "\n",
    "# Dept Na 였던 VisitNumber append\n",
    "diff = set(df.VisitNumber) - set(df_d_sum.VisitNumber)\n",
    "df_d_sum = df_d_sum.append(pd.DataFrame({'VisitNumber': list(diff)},)).fillna({'DepartmentDescription': 'Na',\n",
    "                                                                          'ScanCount': 0,\n",
    "                                                                         'ratio':0 })\n",
    "\n",
    "diff = set(df_test.VisitNumber) - set(df_test_d_sum.VisitNumber)\n",
    "df_test_d_sum = df_test_d_sum.append(pd.DataFrame({'VisitNumber': list(diff)},)).fillna({'DepartmentDescription': 'Na',\n",
    "                                                                          'ScanCount': 0,\n",
    "                                                                         'ratio':0 })\n",
    "\n",
    "# create pivot table\n",
    "df_pivot = df_d_sum.pivot(index='VisitNumber', columns='DepartmentDescription', values='ratio').fillna(0)\n",
    "df_pivot = pd.merge(df_pivot, df[['VisitNumber', 'TripType']].drop_duplicates(), on='VisitNumber')\n",
    "\n",
    "df_test_pivot = df_test_d_sum.pivot(index='VisitNumber', columns='DepartmentDescription', values='ratio').fillna(0)\n",
    "df_test_pivot = pd.merge(df_test_pivot, df[['VisitNumber', 'TripType']].drop_duplicates(), on='VisitNumber')\n",
    "\n",
    "\n",
    "# make training data\n",
    "X = df_pivot.iloc[:, :-1]\n",
    "y = df_pivot.iloc[:, -1]\n",
    "\n",
    "X_test = df_test_pivot.iloc[:, -1]\n",
    "y_test = df_test_pivot.iloc[:, -1]"
   ]
  },
  {
   "cell_type": "code",
   "execution_count": null,
   "metadata": {},
   "outputs": [],
   "source": [
    "\n",
    "# training\n",
    "mod2 = RandomForestClassifier(n_estimators=200, bootstrap=False, min_samples_leaf=1, min_samples_split=3,\\\n",
    "                             criterion='gini').fit(X_t, y_t)\n",
    "\n",
    "print(classification_report(y_te, mod2.predict(X_te)))"
   ]
  }
 ],
 "metadata": {
  "kernelspec": {
   "display_name": "Python 3",
   "language": "python",
   "name": "python3"
  },
  "language_info": {
   "codemirror_mode": {
    "name": "ipython",
    "version": 3
   },
   "file_extension": ".py",
   "mimetype": "text/x-python",
   "name": "python",
   "nbconvert_exporter": "python",
   "pygments_lexer": "ipython3",
   "version": "3.7.0"
  }
 },
 "nbformat": 4,
 "nbformat_minor": 2
}
